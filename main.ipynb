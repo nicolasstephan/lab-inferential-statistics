{
 "cells": [
  {
   "cell_type": "markdown",
   "metadata": {},
   "source": [
    "## Lab | Inferential statistics"
   ]
  },
  {
   "cell_type": "markdown",
   "metadata": {},
   "source": [
    "### Instructions\n",
    "It is assumed that the mean systolic blood pressure is μ = 120 mm Hg. In the Honolulu Heart Study, a sample of n = 100 people had an average systolic blood pressure of 130.1 mm Hg with a standard deviation of 21.21 mm Hg. Is the group significantly different (with respect to systolic blood pressure!) from the regular population?\n",
    "\n",
    "- Set up the hypothesis test.\n",
    "- Write down all the steps followed for setting up the test.\n",
    "- Calculate the test statistic by hand and also code it in Python. It should be 4.76190. We will take a look at how to make decisions based on this calculated value.\n"
   ]
  },
  {
   "cell_type": "markdown",
   "metadata": {},
   "source": [
    "<span style=\"color:purple\">MY NOTE:</span>\n",
    "- <span style=\"color:purple\">μ = Mu (spoken miu)</span>\n",
    "- <span style=\"color:purple\">Null Hypothesis = H0</span>\n",
    "- <span style=\"color:purple\">Alternative Hypothesis = H1</span>\n",
    "- <span style=\"color:purple\">alpha = 0.05 by default</span>\n",
    "- <span style=\"color:purple\">A one-tailed test checks for a difference in only one direction (either greater than or less than the hypothesized value).</span>\n",
    "- <span style=\"color:purple\">A two-tailed test checks for a difference in either direction (both greater than and less than the hypothesized value).</span>\n"
   ]
  },
  {
   "cell_type": "code",
   "execution_count": 7,
   "metadata": {},
   "outputs": [],
   "source": [
    "import pandas as pd\n",
    "import scipy.stats as stats"
   ]
  },
  {
   "cell_type": "code",
   "execution_count": null,
   "metadata": {},
   "outputs": [
    {
     "name": "stdout",
     "output_type": "stream",
     "text": [
      "Null Hypothesis (H₀): The population mean systolic blood pressure is 120 mm Hg.\n",
      "Alternate Hypothesis (H₁): The population mean systolic blood pressure is NOT 120 mm Hg.\n"
     ]
    }
   ],
   "source": [
    "# Hypotheses\n",
    "null_hypothesis = \"The population mean systolic blood pressure is 120 mm Hg.\"  # H₀\n",
    "alt_hypothesis = \"The population mean systolic blood pressure is NOT 120 mm Hg.\"  # H₁\n",
    "\n",
    "print(f\"Null Hypothesis (H₀): {null_hypothesis}\")\n",
    "print(f\"Alternate Hypothesis (H₁): {alt_hypothesis}\")\n",
    "\n",
    "\n",
    "#----> Two tailed test"
   ]
  },
  {
   "cell_type": "code",
   "execution_count": null,
   "metadata": {},
   "outputs": [],
   "source": [
    "alpha = 0.05  # 5% significance level"
   ]
  },
  {
   "cell_type": "code",
   "execution_count": null,
   "metadata": {},
   "outputs": [
    {
     "name": "stdout",
     "output_type": "stream",
     "text": [
      "T-Statistic: 4.7619\n",
      "P-Value: 0.000007\n"
     ]
    }
   ],
   "source": [
    "sample_mean = 130.1  # Sample mean\n",
    "pop_mean = 120       # Hypothesized population mean\n",
    "sample_std = 21.21   # Sample standard deviation\n",
    "n = 100              # Sample size\n",
    "\n",
    "# Compute t-statistic manually\n",
    "t_stat = (sample_mean - pop_mean) / (sample_std / (n ** 0.5))\n",
    "\n",
    "# Compute p-value for a two-tailed test\n",
    "p_value = 2 * (1 - stats.t.cdf(abs(t_stat), df=n-1))\n",
    "\n",
    "\n",
    "print(f\"T-Statistic: {t_stat:.4f}\")\n",
    "print(f\"P-Value: {p_value:.6f}\")\n"
   ]
  },
  {
   "cell_type": "code",
   "execution_count": null,
   "metadata": {},
   "outputs": [],
   "source": [
    "# P-Value: 0.000007 < than alpha (0.05)\n",
    "# ---> Reject H0: There is strong evidence that the true mean systolic blood pressure is significantly different from 120 mm Hg."
   ]
  }
 ],
 "metadata": {
  "kernelspec": {
   "display_name": "Python 3",
   "language": "python",
   "name": "python3"
  },
  "language_info": {
   "codemirror_mode": {
    "name": "ipython",
    "version": 3
   },
   "file_extension": ".py",
   "mimetype": "text/x-python",
   "name": "python",
   "nbconvert_exporter": "python",
   "pygments_lexer": "ipython3",
   "version": "3.11.1"
  }
 },
 "nbformat": 4,
 "nbformat_minor": 2
}
